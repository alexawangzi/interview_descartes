{
 "cells": [
  {
   "cell_type": "code",
   "execution_count": 1,
   "metadata": {},
   "outputs": [],
   "source": [
    "import pandas as pd\n",
    "pd.set_option('display.max_rows', 500)\n",
    "pd.set_option('display.max_columns', 500)\n",
    "\n",
    "import matplotlib.pyplot as plt"
   ]
  },
  {
   "cell_type": "code",
   "execution_count": 2,
   "metadata": {
    "application/vnd.databricks.v1+cell": {
     "inputWidgets": {},
     "nuid": "66993530-c604-4e94-91b2-b75e8f1b6927",
     "showTitle": false,
     "title": ""
    },
    "execution": {
     "iopub.execute_input": "2021-11-30T13:35:42.267609Z",
     "iopub.status.busy": "2021-11-30T13:35:42.266536Z",
     "iopub.status.idle": "2021-11-30T13:35:42.592936Z",
     "shell.execute_reply": "2021-11-30T13:35:42.594103Z"
    }
   },
   "outputs": [],
   "source": [
    "target_col = \"TARGET_FLAG\"\n",
    "\n",
    "feature_cols = ['KIDSDRIV',\n",
    " 'AGE',\n",
    " 'HOMEKIDS',\n",
    " 'YOJ',\n",
    " 'INCOME',\n",
    " 'PARENT1',\n",
    " 'HOME_VAL',\n",
    " 'MSTATUS',\n",
    " 'SEX',\n",
    " 'EDUCATION',\n",
    " 'JOB',\n",
    " 'TRAVTIME',\n",
    " 'CAR_USE',\n",
    " 'BLUEBOOK',\n",
    " 'TIF',\n",
    " 'CAR_TYPE',\n",
    " 'RED_CAR',\n",
    " 'OLDCLAIM',\n",
    " 'CLM_FREQ',\n",
    " 'REVOKED',\n",
    " 'MVR_PTS',\n",
    " 'CAR_AGE',\n",
    " 'URBANICITY']"
   ]
  },
  {
   "cell_type": "markdown",
   "metadata": {},
   "source": [
    "## Approach\n",
    "\n",
    "We will test one linear model, i.e. logistic regression, and one non-linear model, i.e. XGBoost, to offer some contrast.\n",
    "\n",
    "From EDA notebook, we know that accuracy might not be a good mertic due to imbalanced data and low separability of the target using most of the features. Due to lack of domain knowlegde it is not sure if false positive or false negative costs more to the business. Hence we will look at 4 metrics:\n",
    "\n",
    "1) Accuracy\n",
    "\n",
    "2) ROC-AUC: focus on positive class \n",
    "\n",
    "3) F1: focus on positive class \n",
    "\n",
    "4) Matthew's correlation coefficient: symmetric and robust to class imbalance \n",
    "\n",
    "\n",
    "As a benchmark, blind guess based on majority class (0) will achieve an accuracy of 0.73."
   ]
  },
  {
   "cell_type": "markdown",
   "metadata": {},
   "source": [
    "# I. Logistic Regression training"
   ]
  },
  {
   "cell_type": "markdown",
   "metadata": {
    "application/vnd.databricks.v1+cell": {
     "inputWidgets": {},
     "nuid": "29cb5692-6d0a-43cf-90aa-f2e3af8a95fa",
     "showTitle": false,
     "title": ""
    }
   },
   "source": [
    "## Load Data"
   ]
  },
  {
   "cell_type": "code",
   "execution_count": 3,
   "metadata": {
    "application/vnd.databricks.v1+cell": {
     "inputWidgets": {},
     "nuid": "6f29cd66-8242-473a-8d26-3056a660d272",
     "showTitle": false,
     "title": ""
    },
    "execution": {
     "iopub.execute_input": "2021-11-30T13:35:42.600004Z",
     "iopub.status.busy": "2021-11-30T13:35:42.598208Z",
     "iopub.status.idle": "2021-11-30T13:35:43.386276Z",
     "shell.execute_reply": "2021-11-30T13:35:43.387779Z"
    }
   },
   "outputs": [],
   "source": [
    "\n",
    "import pandas as pd\n",
    "\n",
    "train_df = pd.read_csv('./data/auto-insurance-fall-2017/train_auto.csv')\n",
    "test_df = pd.read_csv('./data/auto-insurance-fall-2017/test_auto.csv')\n",
    "\n",
    "train_df = train_df[feature_cols + [target_col]]\n",
    "test_df = test_df[feature_cols + [target_col]]"
   ]
  },
  {
   "cell_type": "markdown",
   "metadata": {},
   "source": [
    "## Cleaning"
   ]
  },
  {
   "cell_type": "code",
   "execution_count": 4,
   "metadata": {},
   "outputs": [],
   "source": [
    "from re import sub\n",
    "import numpy as np\n",
    "\n",
    "def convert_monetary_str_to_float(s):\n",
    "    if s != s:\n",
    "        return 0.0\n",
    "    return np.float(sub(r'[^\\d.]', '', s))\n",
    "\n",
    "cols_monetary = ['INCOME', 'HOME_VAL', 'BLUEBOOK', 'OLDCLAIM']\n",
    "\n",
    "\n",
    "for col in cols_monetary:\n",
    "    train_df[col] = train_df[col].apply(lambda x : convert_monetary_str_to_float(x))\n",
    "    test_df[col] = test_df[col].apply(lambda x : convert_monetary_str_to_float(x))\n",
    "\n",
    "\n",
    "    "
   ]
  },
  {
   "cell_type": "code",
   "execution_count": 5,
   "metadata": {},
   "outputs": [],
   "source": [
    "def convert_yes_no_str_to_boolean(s):\n",
    "    if s != s:\n",
    "        return s\n",
    "    if 'yes' in s.lower():\n",
    "        return True\n",
    "    return False\n",
    "\n",
    "cols_boolean = ['PARENT1', 'MSTATUS', 'RED_CAR', 'REVOKED']\n",
    "for col in cols_boolean:\n",
    "    train_df[col] = train_df[col].apply(lambda x : convert_yes_no_str_to_boolean(x))\n",
    "    test_df[col] = test_df[col].apply(lambda x : convert_yes_no_str_to_boolean(x))\n"
   ]
  },
  {
   "cell_type": "markdown",
   "metadata": {
    "application/vnd.databricks.v1+cell": {
     "inputWidgets": {},
     "nuid": "1c753e97-fe33-4f86-b179-2b3c5ea6b7f7",
     "showTitle": false,
     "title": ""
    }
   },
   "source": [
    "## Preprocessors"
   ]
  },
  {
   "cell_type": "code",
   "execution_count": 6,
   "metadata": {
    "application/vnd.databricks.v1+cell": {
     "inputWidgets": {},
     "nuid": "923a44d0-9898-4b04-8201-908ca77242f0",
     "showTitle": false,
     "title": ""
    },
    "execution": {
     "iopub.execute_input": "2021-11-30T13:35:44.054905Z",
     "iopub.status.busy": "2021-11-30T13:35:44.053113Z",
     "iopub.status.idle": "2021-11-30T13:35:44.060164Z",
     "shell.execute_reply": "2021-11-30T13:35:44.057901Z"
    }
   },
   "outputs": [],
   "source": [
    "transformers = []"
   ]
  },
  {
   "cell_type": "markdown",
   "metadata": {
    "application/vnd.databricks.v1+cell": {
     "inputWidgets": {},
     "nuid": "e8f69e08-4aac-4e61-b2db-80bc277cc366",
     "showTitle": false,
     "title": ""
    }
   },
   "source": [
    "### Boolean columns\n",
    "For each column, impute missing values and then convert into ones and zeros."
   ]
  },
  {
   "cell_type": "code",
   "execution_count": 7,
   "metadata": {
    "application/vnd.databricks.v1+cell": {
     "inputWidgets": {},
     "nuid": "fd934cda-ae95-4c66-bf12-817abca82460",
     "showTitle": false,
     "title": ""
    },
    "execution": {
     "iopub.execute_input": "2021-11-30T13:35:44.073863Z",
     "iopub.status.busy": "2021-11-30T13:35:44.070544Z",
     "iopub.status.idle": "2021-11-30T13:35:44.179756Z",
     "shell.execute_reply": "2021-11-30T13:35:44.180327Z"
    }
   },
   "outputs": [],
   "source": [
    "from sklearn.impute import SimpleImputer\n",
    "from sklearn.pipeline import Pipeline\n",
    "from sklearn.preprocessing import FunctionTransformer, OneHotEncoder\n",
    "\n",
    "\n",
    "bool_pipeline = Pipeline(steps=[\n",
    "    (\"cast_type\", FunctionTransformer(lambda df: df.astype(object))),\n",
    "    (\"imputer\", SimpleImputer(missing_values=None, strategy=\"most_frequent\")),\n",
    "    (\"onehot\", OneHotEncoder(handle_unknown=\"ignore\")),\n",
    "])\n",
    "\n",
    "transformers.append((\"boolean\", bool_pipeline, cols_boolean))"
   ]
  },
  {
   "cell_type": "markdown",
   "metadata": {
    "application/vnd.databricks.v1+cell": {
     "inputWidgets": {},
     "nuid": "c0b834d6-5d07-4902-87a6-db244468a823",
     "showTitle": false,
     "title": ""
    }
   },
   "source": [
    "### Categorical columns"
   ]
  },
  {
   "cell_type": "markdown",
   "metadata": {
    "application/vnd.databricks.v1+cell": {
     "inputWidgets": {},
     "nuid": "592b71e8-1589-42af-bd01-3d59a2ce8b3f",
     "showTitle": false,
     "title": ""
    }
   },
   "source": [
    "#### Low-cardinality categoricals\n",
    "Convert each low-cardinality categorical column into multiple binary columns through one-hot encoding.\n",
    "For each input categorical column (string or numeric), the number of output columns is equal to the number of unique values in the input column."
   ]
  },
  {
   "cell_type": "code",
   "execution_count": 8,
   "metadata": {
    "application/vnd.databricks.v1+cell": {
     "inputWidgets": {},
     "nuid": "e8851778-1476-41ef-ad35-179fcdbf232d",
     "showTitle": false,
     "title": ""
    },
    "execution": {
     "iopub.execute_input": "2021-11-30T13:35:44.186959Z",
     "iopub.status.busy": "2021-11-30T13:35:44.186192Z",
     "iopub.status.idle": "2021-11-30T13:35:44.191662Z",
     "shell.execute_reply": "2021-11-30T13:35:44.190511Z"
    }
   },
   "outputs": [],
   "source": [
    "from sklearn.pipeline import Pipeline\n",
    "from sklearn.preprocessing import OneHotEncoder\n",
    "\n",
    "cols_cat = ['SEX', 'EDUCATION', 'JOB', 'CAR_USE', 'CAR_TYPE', 'URBANICITY', 'PARENT1', 'MSTATUS', 'RED_CAR', 'REVOKED']\n",
    "\n",
    "one_hot_encoder = OneHotEncoder(handle_unknown=\"ignore\")\n",
    "\n",
    "transformers.append((\"onehot\", one_hot_encoder,  cols_cat))"
   ]
  },
  {
   "cell_type": "code",
   "execution_count": 9,
   "metadata": {
    "application/vnd.databricks.v1+cell": {
     "inputWidgets": {},
     "nuid": "ae552eea-7ea9-4885-b52f-2fcddb1dd813",
     "showTitle": false,
     "title": ""
    },
    "execution": {
     "iopub.execute_input": "2021-11-30T13:35:44.221863Z",
     "iopub.status.busy": "2021-11-30T13:35:44.220871Z",
     "iopub.status.idle": "2021-11-30T13:35:44.229500Z",
     "shell.execute_reply": "2021-11-30T13:35:44.230481Z"
    }
   },
   "outputs": [],
   "source": [
    "from sklearn.compose import ColumnTransformer\n",
    "\n",
    "preprocessor = ColumnTransformer(transformers, remainder=\"passthrough\", sparse_threshold=0)"
   ]
  },
  {
   "cell_type": "markdown",
   "metadata": {
    "application/vnd.databricks.v1+cell": {
     "inputWidgets": {},
     "nuid": "797d51db-9ebb-42fa-80b4-46be99000508",
     "showTitle": false,
     "title": ""
    }
   },
   "source": [
    "### Feature standardization\n",
    "Scale all feature columns to be centered around zero with unit variance."
   ]
  },
  {
   "cell_type": "code",
   "execution_count": 10,
   "metadata": {},
   "outputs": [],
   "source": [
    "\n",
    "from sklearn.preprocessing import MinMaxScaler\n",
    "from sklearn.impute import KNNImputer\n",
    "\n",
    "cols_numeric = ['AGE',\n",
    " 'BLUEBOOK',\n",
    " 'CAR_AGE',\n",
    " 'CLM_FREQ',\n",
    " 'HOMEKIDS',\n",
    " 'HOME_VAL',\n",
    " 'INCOME',\n",
    " 'KIDSDRIV',\n",
    " 'MVR_PTS',\n",
    " 'OLDCLAIM',\n",
    " 'TIF',\n",
    " 'TRAVTIME',\n",
    " 'YOJ']\n",
    "\n",
    "scaler = MinMaxScaler()\n",
    "\n",
    "numeric_pipeline = Pipeline(steps=[\n",
    "    (\"cast_type\", FunctionTransformer(lambda df: df.astype(np.number))),\n",
    "    (\"imputer\", KNNImputer(n_neighbors=5)),\n",
    "])\n",
    "\n",
    "transformers.append((\"numeric\", numeric_pipeline, cols_numeric))\n",
    "\n",
    "\n"
   ]
  },
  {
   "cell_type": "markdown",
   "metadata": {
    "application/vnd.databricks.v1+cell": {
     "inputWidgets": {},
     "nuid": "44c5ca65-6c45-420a-b0db-97192441b7c6",
     "showTitle": false,
     "title": ""
    }
   },
   "source": [
    "## Train - Validation - Test Split\n"
   ]
  },
  {
   "cell_type": "code",
   "execution_count": 11,
   "metadata": {
    "application/vnd.databricks.v1+cell": {
     "inputWidgets": {},
     "nuid": "887b495f-1856-44e3-a7ec-c3eb479cb433",
     "showTitle": false,
     "title": ""
    },
    "execution": {
     "iopub.execute_input": "2021-11-30T13:35:44.257052Z",
     "iopub.status.busy": "2021-11-30T13:35:44.255913Z",
     "iopub.status.idle": "2021-11-30T13:35:44.278543Z",
     "shell.execute_reply": "2021-11-30T13:35:44.279579Z"
    }
   },
   "outputs": [],
   "source": [
    "from sklearn.model_selection import train_test_split\n",
    "\n",
    "# X_train, X_val, y_train, y_val = train_test_split(train_df.drop(columns=[target_col]), train_df[[target_col]], train_size=0.8, random_state=176283341, stratify=train_df[[target_col]])\n",
    "\n",
    "\n",
    "X_train = train_df.drop(columns=[target_col])\n",
    "y_train = train_df[[target_col]]\n",
    "\n",
    "X_test = test_df.drop(columns=[target_col])\n",
    "y_test = test_df[[target_col]]"
   ]
  },
  {
   "cell_type": "markdown",
   "metadata": {
    "application/vnd.databricks.v1+cell": {
     "inputWidgets": {},
     "nuid": "405f72a1-e885-45df-bdd2-8cd0f462d58e",
     "showTitle": false,
     "title": ""
    }
   },
   "source": [
    "## Train classification model\n"
   ]
  },
  {
   "cell_type": "code",
   "execution_count": 12,
   "metadata": {
    "application/vnd.databricks.v1+cell": {
     "inputWidgets": {},
     "nuid": "2a9ba5b0-3e69-44d6-8d7a-68d78b2af473",
     "showTitle": false,
     "title": ""
    },
    "execution": {
     "iopub.execute_input": "2021-11-30T13:35:44.292243Z",
     "iopub.status.busy": "2021-11-30T13:35:44.290187Z",
     "iopub.status.idle": "2021-11-30T13:35:44.303893Z",
     "shell.execute_reply": "2021-11-30T13:35:44.304796Z"
    }
   },
   "outputs": [],
   "source": [
    "from sklearn.linear_model import LogisticRegression\n"
   ]
  },
  {
   "cell_type": "code",
   "execution_count": 13,
   "metadata": {
    "application/vnd.databricks.v1+cell": {
     "inputWidgets": {},
     "nuid": "a2d9bb80-4e0c-4e0d-a9d8-95d58a5a553b",
     "showTitle": false,
     "title": ""
    },
    "execution": {
     "iopub.execute_input": "2021-11-30T13:35:44.317045Z",
     "iopub.status.busy": "2021-11-30T13:35:44.315226Z",
     "iopub.status.idle": "2021-11-30T13:35:44.594957Z",
     "shell.execute_reply": "2021-11-30T13:35:44.596531Z"
    }
   },
   "outputs": [
    {
     "data": {
      "text/html": [
       "<style>#sk-5727a432-15fb-4e48-91d3-4f7b0e7395cc {color: black;background-color: white;}#sk-5727a432-15fb-4e48-91d3-4f7b0e7395cc pre{padding: 0;}#sk-5727a432-15fb-4e48-91d3-4f7b0e7395cc div.sk-toggleable {background-color: white;}#sk-5727a432-15fb-4e48-91d3-4f7b0e7395cc label.sk-toggleable__label {cursor: pointer;display: block;width: 100%;margin-bottom: 0;padding: 0.3em;box-sizing: border-box;text-align: center;}#sk-5727a432-15fb-4e48-91d3-4f7b0e7395cc div.sk-toggleable__content {max-height: 0;max-width: 0;overflow: hidden;text-align: left;background-color: #f0f8ff;}#sk-5727a432-15fb-4e48-91d3-4f7b0e7395cc div.sk-toggleable__content pre {margin: 0.2em;color: black;border-radius: 0.25em;background-color: #f0f8ff;}#sk-5727a432-15fb-4e48-91d3-4f7b0e7395cc input.sk-toggleable__control:checked~div.sk-toggleable__content {max-height: 200px;max-width: 100%;overflow: auto;}#sk-5727a432-15fb-4e48-91d3-4f7b0e7395cc div.sk-estimator input.sk-toggleable__control:checked~label.sk-toggleable__label {background-color: #d4ebff;}#sk-5727a432-15fb-4e48-91d3-4f7b0e7395cc div.sk-label input.sk-toggleable__control:checked~label.sk-toggleable__label {background-color: #d4ebff;}#sk-5727a432-15fb-4e48-91d3-4f7b0e7395cc input.sk-hidden--visually {border: 0;clip: rect(1px 1px 1px 1px);clip: rect(1px, 1px, 1px, 1px);height: 1px;margin: -1px;overflow: hidden;padding: 0;position: absolute;width: 1px;}#sk-5727a432-15fb-4e48-91d3-4f7b0e7395cc div.sk-estimator {font-family: monospace;background-color: #f0f8ff;border: 1px dotted black;border-radius: 0.25em;box-sizing: border-box;margin-bottom: 0.5em;}#sk-5727a432-15fb-4e48-91d3-4f7b0e7395cc div.sk-estimator:hover {background-color: #d4ebff;}#sk-5727a432-15fb-4e48-91d3-4f7b0e7395cc div.sk-parallel-item::after {content: \"\";width: 100%;border-bottom: 1px solid gray;flex-grow: 1;}#sk-5727a432-15fb-4e48-91d3-4f7b0e7395cc div.sk-label:hover label.sk-toggleable__label {background-color: #d4ebff;}#sk-5727a432-15fb-4e48-91d3-4f7b0e7395cc div.sk-serial::before {content: \"\";position: absolute;border-left: 1px solid gray;box-sizing: border-box;top: 2em;bottom: 0;left: 50%;}#sk-5727a432-15fb-4e48-91d3-4f7b0e7395cc div.sk-serial {display: flex;flex-direction: column;align-items: center;background-color: white;padding-right: 0.2em;padding-left: 0.2em;}#sk-5727a432-15fb-4e48-91d3-4f7b0e7395cc div.sk-item {z-index: 1;}#sk-5727a432-15fb-4e48-91d3-4f7b0e7395cc div.sk-parallel {display: flex;align-items: stretch;justify-content: center;background-color: white;}#sk-5727a432-15fb-4e48-91d3-4f7b0e7395cc div.sk-parallel::before {content: \"\";position: absolute;border-left: 1px solid gray;box-sizing: border-box;top: 2em;bottom: 0;left: 50%;}#sk-5727a432-15fb-4e48-91d3-4f7b0e7395cc div.sk-parallel-item {display: flex;flex-direction: column;position: relative;background-color: white;}#sk-5727a432-15fb-4e48-91d3-4f7b0e7395cc div.sk-parallel-item:first-child::after {align-self: flex-end;width: 50%;}#sk-5727a432-15fb-4e48-91d3-4f7b0e7395cc div.sk-parallel-item:last-child::after {align-self: flex-start;width: 50%;}#sk-5727a432-15fb-4e48-91d3-4f7b0e7395cc div.sk-parallel-item:only-child::after {width: 0;}#sk-5727a432-15fb-4e48-91d3-4f7b0e7395cc div.sk-dashed-wrapped {border: 1px dashed gray;margin: 0 0.4em 0.5em 0.4em;box-sizing: border-box;padding-bottom: 0.4em;background-color: white;position: relative;}#sk-5727a432-15fb-4e48-91d3-4f7b0e7395cc div.sk-label label {font-family: monospace;font-weight: bold;background-color: white;display: inline-block;line-height: 1.2em;}#sk-5727a432-15fb-4e48-91d3-4f7b0e7395cc div.sk-label-container {position: relative;z-index: 2;text-align: center;}#sk-5727a432-15fb-4e48-91d3-4f7b0e7395cc div.sk-container {display: inline-block;position: relative;}</style><div id=\"sk-5727a432-15fb-4e48-91d3-4f7b0e7395cc\" class\"sk-top-container\"><div class=\"sk-container\"><div class=\"sk-item sk-dashed-wrapped\"><div class=\"sk-label-container\"><div class=\"sk-label sk-toggleable\"><input class=\"sk-toggleable__control sk-hidden--visually\" id=\"bcd0b846-9381-4946-8853-6a770f328f92\" type=\"checkbox\" ><label class=\"sk-toggleable__label\" for=\"bcd0b846-9381-4946-8853-6a770f328f92\">Pipeline</label><div class=\"sk-toggleable__content\"><pre>Pipeline(steps=[('preprocessor',\n",
       "                 ColumnTransformer(remainder='passthrough', sparse_threshold=0,\n",
       "                                   transformers=[('boolean',\n",
       "                                                  Pipeline(steps=[('cast_type',\n",
       "                                                                   FunctionTransformer(func=<function <lambda> at 0x7fcd6bce8560>)),\n",
       "                                                                  ('imputer',\n",
       "                                                                   SimpleImputer(missing_values=None,\n",
       "                                                                                 strategy='most_frequent')),\n",
       "                                                                  ('onehot',\n",
       "                                                                   OneHotEncoder(handle_unknown='ignore'))]),\n",
       "                                                  ['PARENT1', 'MSTAT...\n",
       "                                                   'URBANICITY', 'PARENT1',\n",
       "                                                   'MSTATUS', 'RED_CAR',\n",
       "                                                   'REVOKED']),\n",
       "                                                 ('numeric',\n",
       "                                                  Pipeline(steps=[('cast_type',\n",
       "                                                                   FunctionTransformer(func=<function <lambda> at 0x7fcd6bd00f80>)),\n",
       "                                                                  ('imputer',\n",
       "                                                                   KNNImputer())]),\n",
       "                                                  ['AGE', 'BLUEBOOK', 'CAR_AGE',\n",
       "                                                   'CLM_FREQ', 'HOMEKIDS',\n",
       "                                                   'HOME_VAL', 'INCOME',\n",
       "                                                   'KIDSDRIV', 'MVR_PTS',\n",
       "                                                   'OLDCLAIM', 'TIF',\n",
       "                                                   'TRAVTIME', 'YOJ'])])),\n",
       "                ('classifier', LogisticRegression())])</pre></div></div></div><div class=\"sk-serial\"><div class=\"sk-item sk-dashed-wrapped\"><div class=\"sk-label-container\"><div class=\"sk-label sk-toggleable\"><input class=\"sk-toggleable__control sk-hidden--visually\" id=\"37f8a7be-8da9-4012-a231-7edd056efaf3\" type=\"checkbox\" ><label class=\"sk-toggleable__label\" for=\"37f8a7be-8da9-4012-a231-7edd056efaf3\">preprocessor: ColumnTransformer</label><div class=\"sk-toggleable__content\"><pre>ColumnTransformer(remainder='passthrough', sparse_threshold=0,\n",
       "                  transformers=[('boolean',\n",
       "                                 Pipeline(steps=[('cast_type',\n",
       "                                                  FunctionTransformer(func=<function <lambda> at 0x7fcd6bce8560>)),\n",
       "                                                 ('imputer',\n",
       "                                                  SimpleImputer(missing_values=None,\n",
       "                                                                strategy='most_frequent')),\n",
       "                                                 ('onehot',\n",
       "                                                  OneHotEncoder(handle_unknown='ignore'))]),\n",
       "                                 ['PARENT1', 'MSTATUS', 'RED_CAR', 'REVOKED']),\n",
       "                                ('oneh...\n",
       "                                 ['SEX', 'EDUCATION', 'JOB', 'CAR_USE',\n",
       "                                  'CAR_TYPE', 'URBANICITY', 'PARENT1',\n",
       "                                  'MSTATUS', 'RED_CAR', 'REVOKED']),\n",
       "                                ('numeric',\n",
       "                                 Pipeline(steps=[('cast_type',\n",
       "                                                  FunctionTransformer(func=<function <lambda> at 0x7fcd6bd00f80>)),\n",
       "                                                 ('imputer', KNNImputer())]),\n",
       "                                 ['AGE', 'BLUEBOOK', 'CAR_AGE', 'CLM_FREQ',\n",
       "                                  'HOMEKIDS', 'HOME_VAL', 'INCOME', 'KIDSDRIV',\n",
       "                                  'MVR_PTS', 'OLDCLAIM', 'TIF', 'TRAVTIME',\n",
       "                                  'YOJ'])])</pre></div></div></div><div class=\"sk-parallel\"><div class=\"sk-parallel-item\"><div class=\"sk-item\"><div class=\"sk-label-container\"><div class=\"sk-label sk-toggleable\"><input class=\"sk-toggleable__control sk-hidden--visually\" id=\"d21fee5e-bc66-4cc5-bd45-cf09d786f295\" type=\"checkbox\" ><label class=\"sk-toggleable__label\" for=\"d21fee5e-bc66-4cc5-bd45-cf09d786f295\">boolean</label><div class=\"sk-toggleable__content\"><pre>['PARENT1', 'MSTATUS', 'RED_CAR', 'REVOKED']</pre></div></div></div><div class=\"sk-serial\"><div class=\"sk-item\"><div class=\"sk-serial\"><div class=\"sk-item\"><div class=\"sk-estimator sk-toggleable\"><input class=\"sk-toggleable__control sk-hidden--visually\" id=\"0cc21b2f-4dca-4d13-b191-8b7cb026003d\" type=\"checkbox\" ><label class=\"sk-toggleable__label\" for=\"0cc21b2f-4dca-4d13-b191-8b7cb026003d\">FunctionTransformer</label><div class=\"sk-toggleable__content\"><pre>FunctionTransformer(func=<function <lambda> at 0x7fcd6bce8560>)</pre></div></div></div><div class=\"sk-item\"><div class=\"sk-estimator sk-toggleable\"><input class=\"sk-toggleable__control sk-hidden--visually\" id=\"a5323fc5-e48a-45b5-879a-4f6d5fc99257\" type=\"checkbox\" ><label class=\"sk-toggleable__label\" for=\"a5323fc5-e48a-45b5-879a-4f6d5fc99257\">SimpleImputer</label><div class=\"sk-toggleable__content\"><pre>SimpleImputer(missing_values=None, strategy='most_frequent')</pre></div></div></div><div class=\"sk-item\"><div class=\"sk-estimator sk-toggleable\"><input class=\"sk-toggleable__control sk-hidden--visually\" id=\"4a0eecd7-e4ad-4c7a-8831-82c26b3c5aa7\" type=\"checkbox\" ><label class=\"sk-toggleable__label\" for=\"4a0eecd7-e4ad-4c7a-8831-82c26b3c5aa7\">OneHotEncoder</label><div class=\"sk-toggleable__content\"><pre>OneHotEncoder(handle_unknown='ignore')</pre></div></div></div></div></div></div></div></div><div class=\"sk-parallel-item\"><div class=\"sk-item\"><div class=\"sk-label-container\"><div class=\"sk-label sk-toggleable\"><input class=\"sk-toggleable__control sk-hidden--visually\" id=\"425d5320-beb7-4903-a4ca-0192cc9856f8\" type=\"checkbox\" ><label class=\"sk-toggleable__label\" for=\"425d5320-beb7-4903-a4ca-0192cc9856f8\">onehot</label><div class=\"sk-toggleable__content\"><pre>['SEX', 'EDUCATION', 'JOB', 'CAR_USE', 'CAR_TYPE', 'URBANICITY', 'PARENT1', 'MSTATUS', 'RED_CAR', 'REVOKED']</pre></div></div></div><div class=\"sk-serial\"><div class=\"sk-item\"><div class=\"sk-estimator sk-toggleable\"><input class=\"sk-toggleable__control sk-hidden--visually\" id=\"7f044c31-938c-494b-82ea-094422808c88\" type=\"checkbox\" ><label class=\"sk-toggleable__label\" for=\"7f044c31-938c-494b-82ea-094422808c88\">OneHotEncoder</label><div class=\"sk-toggleable__content\"><pre>OneHotEncoder(handle_unknown='ignore')</pre></div></div></div></div></div></div><div class=\"sk-parallel-item\"><div class=\"sk-item\"><div class=\"sk-label-container\"><div class=\"sk-label sk-toggleable\"><input class=\"sk-toggleable__control sk-hidden--visually\" id=\"b52c9f9f-f3c1-4841-8aba-955e34692085\" type=\"checkbox\" ><label class=\"sk-toggleable__label\" for=\"b52c9f9f-f3c1-4841-8aba-955e34692085\">numeric</label><div class=\"sk-toggleable__content\"><pre>['AGE', 'BLUEBOOK', 'CAR_AGE', 'CLM_FREQ', 'HOMEKIDS', 'HOME_VAL', 'INCOME', 'KIDSDRIV', 'MVR_PTS', 'OLDCLAIM', 'TIF', 'TRAVTIME', 'YOJ']</pre></div></div></div><div class=\"sk-serial\"><div class=\"sk-item\"><div class=\"sk-serial\"><div class=\"sk-item\"><div class=\"sk-estimator sk-toggleable\"><input class=\"sk-toggleable__control sk-hidden--visually\" id=\"2617c13a-612a-421c-bb3a-925a860730cb\" type=\"checkbox\" ><label class=\"sk-toggleable__label\" for=\"2617c13a-612a-421c-bb3a-925a860730cb\">FunctionTransformer</label><div class=\"sk-toggleable__content\"><pre>FunctionTransformer(func=<function <lambda> at 0x7fcd6bd00f80>)</pre></div></div></div><div class=\"sk-item\"><div class=\"sk-estimator sk-toggleable\"><input class=\"sk-toggleable__control sk-hidden--visually\" id=\"856cf9a9-4931-4aa8-a0e1-360ee5efcc11\" type=\"checkbox\" ><label class=\"sk-toggleable__label\" for=\"856cf9a9-4931-4aa8-a0e1-360ee5efcc11\">KNNImputer</label><div class=\"sk-toggleable__content\"><pre>KNNImputer()</pre></div></div></div></div></div></div></div></div><div class=\"sk-parallel-item\"><div class=\"sk-item\"><div class=\"sk-label-container\"><div class=\"sk-label sk-toggleable\"><input class=\"sk-toggleable__control sk-hidden--visually\" id=\"e576bf3b-554c-4ea2-848f-e19fc6711aa8\" type=\"checkbox\" ><label class=\"sk-toggleable__label\" for=\"e576bf3b-554c-4ea2-848f-e19fc6711aa8\">remainder</label><div class=\"sk-toggleable__content\"><pre></pre></div></div></div><div class=\"sk-serial\"><div class=\"sk-item\"><div class=\"sk-estimator sk-toggleable\"><input class=\"sk-toggleable__control sk-hidden--visually\" id=\"55fafda6-5526-4752-a7b9-316c4484cb30\" type=\"checkbox\" ><label class=\"sk-toggleable__label\" for=\"55fafda6-5526-4752-a7b9-316c4484cb30\">passthrough</label><div class=\"sk-toggleable__content\"><pre>passthrough</pre></div></div></div></div></div></div></div></div><div class=\"sk-item\"><div class=\"sk-estimator sk-toggleable\"><input class=\"sk-toggleable__control sk-hidden--visually\" id=\"f5c122cf-38de-4c2a-aba2-d360c26fabe8\" type=\"checkbox\" ><label class=\"sk-toggleable__label\" for=\"f5c122cf-38de-4c2a-aba2-d360c26fabe8\">LogisticRegression</label><div class=\"sk-toggleable__content\"><pre>LogisticRegression()</pre></div></div></div></div></div></div></div>"
      ],
      "text/plain": [
       "Pipeline(steps=[('preprocessor',\n",
       "                 ColumnTransformer(remainder='passthrough', sparse_threshold=0,\n",
       "                                   transformers=[('boolean',\n",
       "                                                  Pipeline(steps=[('cast_type',\n",
       "                                                                   FunctionTransformer(func=<function <lambda> at 0x7fcd6bce8560>)),\n",
       "                                                                  ('imputer',\n",
       "                                                                   SimpleImputer(missing_values=None,\n",
       "                                                                                 strategy='most_frequent')),\n",
       "                                                                  ('onehot',\n",
       "                                                                   OneHotEncoder(handle_unknown='ignore'))]),\n",
       "                                                  ['PARENT1', 'MSTAT...\n",
       "                                                   'URBANICITY', 'PARENT1',\n",
       "                                                   'MSTATUS', 'RED_CAR',\n",
       "                                                   'REVOKED']),\n",
       "                                                 ('numeric',\n",
       "                                                  Pipeline(steps=[('cast_type',\n",
       "                                                                   FunctionTransformer(func=<function <lambda> at 0x7fcd6bd00f80>)),\n",
       "                                                                  ('imputer',\n",
       "                                                                   KNNImputer())]),\n",
       "                                                  ['AGE', 'BLUEBOOK', 'CAR_AGE',\n",
       "                                                   'CLM_FREQ', 'HOMEKIDS',\n",
       "                                                   'HOME_VAL', 'INCOME',\n",
       "                                                   'KIDSDRIV', 'MVR_PTS',\n",
       "                                                   'OLDCLAIM', 'TIF',\n",
       "                                                   'TRAVTIME', 'YOJ'])])),\n",
       "                ('classifier', LogisticRegression())])"
      ]
     },
     "execution_count": 13,
     "metadata": {},
     "output_type": "execute_result"
    }
   ],
   "source": [
    "\n",
    "import sklearn\n",
    "from sklearn import set_config\n",
    "from sklearn.pipeline import Pipeline\n",
    "\n",
    "set_config(display=\"diagram\")\n",
    "\n",
    "sklr_classifier = LogisticRegression()\n",
    "\n",
    "model = Pipeline([\n",
    "    (\"preprocessor\", preprocessor),\n",
    "    (\"classifier\", sklr_classifier),\n",
    "])\n",
    "\n",
    "model"
   ]
  },
  {
   "cell_type": "code",
   "execution_count": 14,
   "metadata": {},
   "outputs": [
    {
     "name": "stderr",
     "output_type": "stream",
     "text": [
      "/Users/ziwang/opt/anaconda3/lib/python3.7/site-packages/sklearn/utils/validation.py:985: DataConversionWarning: A column-vector y was passed when a 1d array was expected. Please change the shape of y to (n_samples, ), for example using ravel().\n",
      "  y = column_or_1d(y, warn=True)\n",
      "/Users/ziwang/opt/anaconda3/lib/python3.7/site-packages/sklearn/utils/validation.py:985: DataConversionWarning: A column-vector y was passed when a 1d array was expected. Please change the shape of y to (n_samples, ), for example using ravel().\n",
      "  y = column_or_1d(y, warn=True)\n",
      "/Users/ziwang/opt/anaconda3/lib/python3.7/site-packages/sklearn/utils/validation.py:985: DataConversionWarning: A column-vector y was passed when a 1d array was expected. Please change the shape of y to (n_samples, ), for example using ravel().\n",
      "  y = column_or_1d(y, warn=True)\n"
     ]
    },
    {
     "data": {
      "text/plain": [
       "{'fit_time': array([0.44074202, 0.23641014, 0.25869012]),\n",
       " 'score_time': array([0.10006905, 0.11837387, 0.11442494]),\n",
       " 'test_accu': array([0.73465638, 0.72830882, 0.73455882]),\n",
       " 'train_accu': array([0.73455882, 0.73644551, 0.73221834]),\n",
       " 'test_roc_auc': array([0.51597812, 0.50749225, 0.51373974]),\n",
       " 'train_roc_auc': array([0.51162093, 0.51834067, 0.51469642]),\n",
       " 'test_f1': array([0.0952381 , 0.0727729 , 0.08375635]),\n",
       " 'train_f1': array([0.07317073, 0.10150376, 0.0967142 ]),\n",
       " 'test_mcc': array([0.08337373, 0.03907466, 0.07649462]),\n",
       " 'train_mcc': array([0.06889887, 0.09569861, 0.07281089])}"
      ]
     },
     "execution_count": 14,
     "metadata": {},
     "output_type": "execute_result"
    }
   ],
   "source": [
    "\n",
    "from sklearn.model_selection import cross_validate\n",
    "from sklearn.metrics import accuracy_score, roc_auc_score, f1_score, matthews_corrcoef, make_scorer\n",
    "\n",
    "accuracy_scorer = make_scorer(accuracy_score)\n",
    "roc_auc_scorer = make_scorer(roc_auc_score)\n",
    "f1_scorer = make_scorer(f1_score)\n",
    "matthews_corrcoef = make_scorer(matthews_corrcoef)\n",
    "\n",
    "scores = cross_validate(model, X_train, y_train, cv=3,\n",
    "                        scoring=({'accu': accuracy_scorer, \n",
    "                                  'roc_auc': roc_auc_scorer,\n",
    "                                 'f1': f1_scorer,\n",
    "                                 'mcc':matthews_corrcoef  }),\n",
    "                        return_train_score=True)\n",
    "\n",
    "\n",
    "scores"
   ]
  },
  {
   "cell_type": "markdown",
   "metadata": {},
   "source": [
    "**Comment:**\n",
    "\n",
    "ROC-AUC ~= 0.5, MCC ~= 0, F1 ~= 0\n",
    "\n",
    "Not good given that blind guess based on majority class (0) will achieve an accuracy of 0.73. Classifier performs badly on rare class (1)."
   ]
  },
  {
   "cell_type": "markdown",
   "metadata": {},
   "source": [
    "# II. XGBoost training"
   ]
  },
  {
   "cell_type": "code",
   "execution_count": 15,
   "metadata": {},
   "outputs": [
    {
     "data": {
      "text/html": [
       "<style>#sk-6ba91aa2-2370-4896-a203-525036f2ed97 {color: black;background-color: white;}#sk-6ba91aa2-2370-4896-a203-525036f2ed97 pre{padding: 0;}#sk-6ba91aa2-2370-4896-a203-525036f2ed97 div.sk-toggleable {background-color: white;}#sk-6ba91aa2-2370-4896-a203-525036f2ed97 label.sk-toggleable__label {cursor: pointer;display: block;width: 100%;margin-bottom: 0;padding: 0.3em;box-sizing: border-box;text-align: center;}#sk-6ba91aa2-2370-4896-a203-525036f2ed97 div.sk-toggleable__content {max-height: 0;max-width: 0;overflow: hidden;text-align: left;background-color: #f0f8ff;}#sk-6ba91aa2-2370-4896-a203-525036f2ed97 div.sk-toggleable__content pre {margin: 0.2em;color: black;border-radius: 0.25em;background-color: #f0f8ff;}#sk-6ba91aa2-2370-4896-a203-525036f2ed97 input.sk-toggleable__control:checked~div.sk-toggleable__content {max-height: 200px;max-width: 100%;overflow: auto;}#sk-6ba91aa2-2370-4896-a203-525036f2ed97 div.sk-estimator input.sk-toggleable__control:checked~label.sk-toggleable__label {background-color: #d4ebff;}#sk-6ba91aa2-2370-4896-a203-525036f2ed97 div.sk-label input.sk-toggleable__control:checked~label.sk-toggleable__label {background-color: #d4ebff;}#sk-6ba91aa2-2370-4896-a203-525036f2ed97 input.sk-hidden--visually {border: 0;clip: rect(1px 1px 1px 1px);clip: rect(1px, 1px, 1px, 1px);height: 1px;margin: -1px;overflow: hidden;padding: 0;position: absolute;width: 1px;}#sk-6ba91aa2-2370-4896-a203-525036f2ed97 div.sk-estimator {font-family: monospace;background-color: #f0f8ff;border: 1px dotted black;border-radius: 0.25em;box-sizing: border-box;margin-bottom: 0.5em;}#sk-6ba91aa2-2370-4896-a203-525036f2ed97 div.sk-estimator:hover {background-color: #d4ebff;}#sk-6ba91aa2-2370-4896-a203-525036f2ed97 div.sk-parallel-item::after {content: \"\";width: 100%;border-bottom: 1px solid gray;flex-grow: 1;}#sk-6ba91aa2-2370-4896-a203-525036f2ed97 div.sk-label:hover label.sk-toggleable__label {background-color: #d4ebff;}#sk-6ba91aa2-2370-4896-a203-525036f2ed97 div.sk-serial::before {content: \"\";position: absolute;border-left: 1px solid gray;box-sizing: border-box;top: 2em;bottom: 0;left: 50%;}#sk-6ba91aa2-2370-4896-a203-525036f2ed97 div.sk-serial {display: flex;flex-direction: column;align-items: center;background-color: white;padding-right: 0.2em;padding-left: 0.2em;}#sk-6ba91aa2-2370-4896-a203-525036f2ed97 div.sk-item {z-index: 1;}#sk-6ba91aa2-2370-4896-a203-525036f2ed97 div.sk-parallel {display: flex;align-items: stretch;justify-content: center;background-color: white;}#sk-6ba91aa2-2370-4896-a203-525036f2ed97 div.sk-parallel::before {content: \"\";position: absolute;border-left: 1px solid gray;box-sizing: border-box;top: 2em;bottom: 0;left: 50%;}#sk-6ba91aa2-2370-4896-a203-525036f2ed97 div.sk-parallel-item {display: flex;flex-direction: column;position: relative;background-color: white;}#sk-6ba91aa2-2370-4896-a203-525036f2ed97 div.sk-parallel-item:first-child::after {align-self: flex-end;width: 50%;}#sk-6ba91aa2-2370-4896-a203-525036f2ed97 div.sk-parallel-item:last-child::after {align-self: flex-start;width: 50%;}#sk-6ba91aa2-2370-4896-a203-525036f2ed97 div.sk-parallel-item:only-child::after {width: 0;}#sk-6ba91aa2-2370-4896-a203-525036f2ed97 div.sk-dashed-wrapped {border: 1px dashed gray;margin: 0 0.4em 0.5em 0.4em;box-sizing: border-box;padding-bottom: 0.4em;background-color: white;position: relative;}#sk-6ba91aa2-2370-4896-a203-525036f2ed97 div.sk-label label {font-family: monospace;font-weight: bold;background-color: white;display: inline-block;line-height: 1.2em;}#sk-6ba91aa2-2370-4896-a203-525036f2ed97 div.sk-label-container {position: relative;z-index: 2;text-align: center;}#sk-6ba91aa2-2370-4896-a203-525036f2ed97 div.sk-container {display: inline-block;position: relative;}</style><div id=\"sk-6ba91aa2-2370-4896-a203-525036f2ed97\" class\"sk-top-container\"><div class=\"sk-container\"><div class=\"sk-item sk-dashed-wrapped\"><div class=\"sk-label-container\"><div class=\"sk-label sk-toggleable\"><input class=\"sk-toggleable__control sk-hidden--visually\" id=\"b65fcfe6-0131-427f-8526-bfb8f41639bd\" type=\"checkbox\" ><label class=\"sk-toggleable__label\" for=\"b65fcfe6-0131-427f-8526-bfb8f41639bd\">Pipeline</label><div class=\"sk-toggleable__content\"><pre>Pipeline(steps=[('preprocessor',\n",
       "                 ColumnTransformer(remainder='passthrough', sparse_threshold=0,\n",
       "                                   transformers=[('boolean',\n",
       "                                                  Pipeline(steps=[('cast_type',\n",
       "                                                                   FunctionTransformer(func=<function <lambda> at 0x7fcd6bce8560>)),\n",
       "                                                                  ('imputer',\n",
       "                                                                   SimpleImputer(missing_values=None,\n",
       "                                                                                 strategy='most_frequent')),\n",
       "                                                                  ('onehot',\n",
       "                                                                   OneHotEncoder(handle_unknown='ignore'))]),\n",
       "                                                  ['PARENT1', 'MSTAT...\n",
       "                               importance_type='gain',\n",
       "                               interaction_constraints=None, learning_rate=None,\n",
       "                               max_delta_step=None, max_depth=None,\n",
       "                               min_child_weight=None, missing=nan,\n",
       "                               monotone_constraints=None, n_estimators=100,\n",
       "                               n_jobs=None, num_parallel_tree=None,\n",
       "                               random_state=None, reg_alpha=None,\n",
       "                               reg_lambda=None, scale_pos_weight=None,\n",
       "                               subsample=None, tree_method=None,\n",
       "                               validate_parameters=None, verbosity=None))])</pre></div></div></div><div class=\"sk-serial\"><div class=\"sk-item sk-dashed-wrapped\"><div class=\"sk-label-container\"><div class=\"sk-label sk-toggleable\"><input class=\"sk-toggleable__control sk-hidden--visually\" id=\"a04c62ea-0eaa-41ab-8766-f94aa5cd2194\" type=\"checkbox\" ><label class=\"sk-toggleable__label\" for=\"a04c62ea-0eaa-41ab-8766-f94aa5cd2194\">preprocessor: ColumnTransformer</label><div class=\"sk-toggleable__content\"><pre>ColumnTransformer(remainder='passthrough', sparse_threshold=0,\n",
       "                  transformers=[('boolean',\n",
       "                                 Pipeline(steps=[('cast_type',\n",
       "                                                  FunctionTransformer(func=<function <lambda> at 0x7fcd6bce8560>)),\n",
       "                                                 ('imputer',\n",
       "                                                  SimpleImputer(missing_values=None,\n",
       "                                                                strategy='most_frequent')),\n",
       "                                                 ('onehot',\n",
       "                                                  OneHotEncoder(handle_unknown='ignore'))]),\n",
       "                                 ['PARENT1', 'MSTATUS', 'RED_CAR', 'REVOKED']),\n",
       "                                ('oneh...\n",
       "                                 ['SEX', 'EDUCATION', 'JOB', 'CAR_USE',\n",
       "                                  'CAR_TYPE', 'URBANICITY', 'PARENT1',\n",
       "                                  'MSTATUS', 'RED_CAR', 'REVOKED']),\n",
       "                                ('numeric',\n",
       "                                 Pipeline(steps=[('cast_type',\n",
       "                                                  FunctionTransformer(func=<function <lambda> at 0x7fcd6bd00f80>)),\n",
       "                                                 ('imputer', KNNImputer())]),\n",
       "                                 ['AGE', 'BLUEBOOK', 'CAR_AGE', 'CLM_FREQ',\n",
       "                                  'HOMEKIDS', 'HOME_VAL', 'INCOME', 'KIDSDRIV',\n",
       "                                  'MVR_PTS', 'OLDCLAIM', 'TIF', 'TRAVTIME',\n",
       "                                  'YOJ'])])</pre></div></div></div><div class=\"sk-parallel\"><div class=\"sk-parallel-item\"><div class=\"sk-item\"><div class=\"sk-label-container\"><div class=\"sk-label sk-toggleable\"><input class=\"sk-toggleable__control sk-hidden--visually\" id=\"0a0f83ce-1474-45c9-be08-a0c5225af1da\" type=\"checkbox\" ><label class=\"sk-toggleable__label\" for=\"0a0f83ce-1474-45c9-be08-a0c5225af1da\">boolean</label><div class=\"sk-toggleable__content\"><pre>['PARENT1', 'MSTATUS', 'RED_CAR', 'REVOKED']</pre></div></div></div><div class=\"sk-serial\"><div class=\"sk-item\"><div class=\"sk-serial\"><div class=\"sk-item\"><div class=\"sk-estimator sk-toggleable\"><input class=\"sk-toggleable__control sk-hidden--visually\" id=\"01556dd0-273d-44d6-859a-bc6167370ae8\" type=\"checkbox\" ><label class=\"sk-toggleable__label\" for=\"01556dd0-273d-44d6-859a-bc6167370ae8\">FunctionTransformer</label><div class=\"sk-toggleable__content\"><pre>FunctionTransformer(func=<function <lambda> at 0x7fcd6bce8560>)</pre></div></div></div><div class=\"sk-item\"><div class=\"sk-estimator sk-toggleable\"><input class=\"sk-toggleable__control sk-hidden--visually\" id=\"642df7c8-9334-4538-8e10-b88e149ff76d\" type=\"checkbox\" ><label class=\"sk-toggleable__label\" for=\"642df7c8-9334-4538-8e10-b88e149ff76d\">SimpleImputer</label><div class=\"sk-toggleable__content\"><pre>SimpleImputer(missing_values=None, strategy='most_frequent')</pre></div></div></div><div class=\"sk-item\"><div class=\"sk-estimator sk-toggleable\"><input class=\"sk-toggleable__control sk-hidden--visually\" id=\"ca9a2a07-8df5-48ed-abef-b63039ac14f2\" type=\"checkbox\" ><label class=\"sk-toggleable__label\" for=\"ca9a2a07-8df5-48ed-abef-b63039ac14f2\">OneHotEncoder</label><div class=\"sk-toggleable__content\"><pre>OneHotEncoder(handle_unknown='ignore')</pre></div></div></div></div></div></div></div></div><div class=\"sk-parallel-item\"><div class=\"sk-item\"><div class=\"sk-label-container\"><div class=\"sk-label sk-toggleable\"><input class=\"sk-toggleable__control sk-hidden--visually\" id=\"b71e0757-c4bb-4ae2-8ff5-730f7a9a306f\" type=\"checkbox\" ><label class=\"sk-toggleable__label\" for=\"b71e0757-c4bb-4ae2-8ff5-730f7a9a306f\">onehot</label><div class=\"sk-toggleable__content\"><pre>['SEX', 'EDUCATION', 'JOB', 'CAR_USE', 'CAR_TYPE', 'URBANICITY', 'PARENT1', 'MSTATUS', 'RED_CAR', 'REVOKED']</pre></div></div></div><div class=\"sk-serial\"><div class=\"sk-item\"><div class=\"sk-estimator sk-toggleable\"><input class=\"sk-toggleable__control sk-hidden--visually\" id=\"6663a0f4-2c15-4082-8c7b-79b3954098a9\" type=\"checkbox\" ><label class=\"sk-toggleable__label\" for=\"6663a0f4-2c15-4082-8c7b-79b3954098a9\">OneHotEncoder</label><div class=\"sk-toggleable__content\"><pre>OneHotEncoder(handle_unknown='ignore')</pre></div></div></div></div></div></div><div class=\"sk-parallel-item\"><div class=\"sk-item\"><div class=\"sk-label-container\"><div class=\"sk-label sk-toggleable\"><input class=\"sk-toggleable__control sk-hidden--visually\" id=\"5dc2549b-ccbc-4789-8eb2-496f568d2ff8\" type=\"checkbox\" ><label class=\"sk-toggleable__label\" for=\"5dc2549b-ccbc-4789-8eb2-496f568d2ff8\">numeric</label><div class=\"sk-toggleable__content\"><pre>['AGE', 'BLUEBOOK', 'CAR_AGE', 'CLM_FREQ', 'HOMEKIDS', 'HOME_VAL', 'INCOME', 'KIDSDRIV', 'MVR_PTS', 'OLDCLAIM', 'TIF', 'TRAVTIME', 'YOJ']</pre></div></div></div><div class=\"sk-serial\"><div class=\"sk-item\"><div class=\"sk-serial\"><div class=\"sk-item\"><div class=\"sk-estimator sk-toggleable\"><input class=\"sk-toggleable__control sk-hidden--visually\" id=\"af788276-8ac4-41bc-b37d-dc4dc27e3174\" type=\"checkbox\" ><label class=\"sk-toggleable__label\" for=\"af788276-8ac4-41bc-b37d-dc4dc27e3174\">FunctionTransformer</label><div class=\"sk-toggleable__content\"><pre>FunctionTransformer(func=<function <lambda> at 0x7fcd6bd00f80>)</pre></div></div></div><div class=\"sk-item\"><div class=\"sk-estimator sk-toggleable\"><input class=\"sk-toggleable__control sk-hidden--visually\" id=\"cb4e257f-ad25-499e-a725-11041fa61b01\" type=\"checkbox\" ><label class=\"sk-toggleable__label\" for=\"cb4e257f-ad25-499e-a725-11041fa61b01\">KNNImputer</label><div class=\"sk-toggleable__content\"><pre>KNNImputer()</pre></div></div></div></div></div></div></div></div><div class=\"sk-parallel-item\"><div class=\"sk-item\"><div class=\"sk-label-container\"><div class=\"sk-label sk-toggleable\"><input class=\"sk-toggleable__control sk-hidden--visually\" id=\"ea9a1d9f-0dd4-430d-99c4-f583944da978\" type=\"checkbox\" ><label class=\"sk-toggleable__label\" for=\"ea9a1d9f-0dd4-430d-99c4-f583944da978\">remainder</label><div class=\"sk-toggleable__content\"><pre></pre></div></div></div><div class=\"sk-serial\"><div class=\"sk-item\"><div class=\"sk-estimator sk-toggleable\"><input class=\"sk-toggleable__control sk-hidden--visually\" id=\"a4718d56-b014-4d94-82f4-bec720c13c1e\" type=\"checkbox\" ><label class=\"sk-toggleable__label\" for=\"a4718d56-b014-4d94-82f4-bec720c13c1e\">passthrough</label><div class=\"sk-toggleable__content\"><pre>passthrough</pre></div></div></div></div></div></div></div></div><div class=\"sk-item\"><div class=\"sk-estimator sk-toggleable\"><input class=\"sk-toggleable__control sk-hidden--visually\" id=\"908388b5-f9ca-4c98-b10a-aaac1f906973\" type=\"checkbox\" ><label class=\"sk-toggleable__label\" for=\"908388b5-f9ca-4c98-b10a-aaac1f906973\">XGBClassifier</label><div class=\"sk-toggleable__content\"><pre>XGBClassifier(base_score=None, booster=None, colsample_bylevel=None,\n",
       "              colsample_bynode=None, colsample_bytree=None, gamma=None,\n",
       "              gpu_id=None, importance_type='gain', interaction_constraints=None,\n",
       "              learning_rate=None, max_delta_step=None, max_depth=None,\n",
       "              min_child_weight=None, missing=nan, monotone_constraints=None,\n",
       "              n_estimators=100, n_jobs=None, num_parallel_tree=None,\n",
       "              random_state=None, reg_alpha=None, reg_lambda=None,\n",
       "              scale_pos_weight=None, subsample=None, tree_method=None,\n",
       "              validate_parameters=None, verbosity=None)</pre></div></div></div></div></div></div></div>"
      ],
      "text/plain": [
       "Pipeline(steps=[('preprocessor',\n",
       "                 ColumnTransformer(remainder='passthrough', sparse_threshold=0,\n",
       "                                   transformers=[('boolean',\n",
       "                                                  Pipeline(steps=[('cast_type',\n",
       "                                                                   FunctionTransformer(func=<function <lambda> at 0x7fcd6bce8560>)),\n",
       "                                                                  ('imputer',\n",
       "                                                                   SimpleImputer(missing_values=None,\n",
       "                                                                                 strategy='most_frequent')),\n",
       "                                                                  ('onehot',\n",
       "                                                                   OneHotEncoder(handle_unknown='ignore'))]),\n",
       "                                                  ['PARENT1', 'MSTAT...\n",
       "                               importance_type='gain',\n",
       "                               interaction_constraints=None, learning_rate=None,\n",
       "                               max_delta_step=None, max_depth=None,\n",
       "                               min_child_weight=None, missing=nan,\n",
       "                               monotone_constraints=None, n_estimators=100,\n",
       "                               n_jobs=None, num_parallel_tree=None,\n",
       "                               random_state=None, reg_alpha=None,\n",
       "                               reg_lambda=None, scale_pos_weight=None,\n",
       "                               subsample=None, tree_method=None,\n",
       "                               validate_parameters=None, verbosity=None))])"
      ]
     },
     "execution_count": 15,
     "metadata": {},
     "output_type": "execute_result"
    }
   ],
   "source": [
    "from xgboost import XGBClassifier\n",
    "\n",
    "\n",
    "set_config(display=\"diagram\")\n",
    "\n",
    "xgbc_classifier = XGBClassifier(\n",
    "#   colsample_bytree=0.786543024582424,\n",
    "#   learning_rate=0.0010953705178519775,\n",
    "#   max_depth=11,\n",
    "#   min_child_weight=1,\n",
    "#   n_estimators=3,\n",
    "#   n_jobs=100,\n",
    "#   subsample=0.2039605310017424,\n",
    "#   verbosity=0,\n",
    "#   random_state=176283341,\n",
    ")\n",
    "\n",
    "model = Pipeline([\n",
    "    (\"preprocessor\", preprocessor),\n",
    "    (\"classifier\", xgbc_classifier),\n",
    "])\n",
    "\n",
    "model"
   ]
  },
  {
   "cell_type": "code",
   "execution_count": 16,
   "metadata": {},
   "outputs": [
    {
     "name": "stderr",
     "output_type": "stream",
     "text": [
      "/Users/ziwang/opt/anaconda3/lib/python3.7/site-packages/xgboost/sklearn.py:888: UserWarning: The use of label encoder in XGBClassifier is deprecated and will be removed in a future release. To remove this warning, do the following: 1) Pass option use_label_encoder=False when constructing XGBClassifier object; and 2) Encode your labels (y) as integers starting with 0, i.e. 0, 1, 2, ..., [num_class - 1].\n",
      "  warnings.warn(label_encoder_deprecation_msg, UserWarning)\n",
      "/Users/ziwang/opt/anaconda3/lib/python3.7/site-packages/sklearn/preprocessing/_label.py:98: DataConversionWarning: A column-vector y was passed when a 1d array was expected. Please change the shape of y to (n_samples, ), for example using ravel().\n",
      "  y = column_or_1d(y, warn=True)\n",
      "/Users/ziwang/opt/anaconda3/lib/python3.7/site-packages/sklearn/preprocessing/_label.py:133: DataConversionWarning: A column-vector y was passed when a 1d array was expected. Please change the shape of y to (n_samples, ), for example using ravel().\n",
      "  y = column_or_1d(y, warn=True)\n"
     ]
    },
    {
     "name": "stdout",
     "output_type": "stream",
     "text": [
      "[19:58:05] WARNING: /Users/travis/build/dmlc/xgboost/src/learner.cc:1061: Starting in XGBoost 1.3.0, the default evaluation metric used with the objective 'binary:logistic' was changed from 'error' to 'logloss'. Explicitly set eval_metric if you'd like to restore the old behavior.\n"
     ]
    },
    {
     "name": "stderr",
     "output_type": "stream",
     "text": [
      "/Users/ziwang/opt/anaconda3/lib/python3.7/site-packages/xgboost/sklearn.py:888: UserWarning: The use of label encoder in XGBClassifier is deprecated and will be removed in a future release. To remove this warning, do the following: 1) Pass option use_label_encoder=False when constructing XGBClassifier object; and 2) Encode your labels (y) as integers starting with 0, i.e. 0, 1, 2, ..., [num_class - 1].\n",
      "  warnings.warn(label_encoder_deprecation_msg, UserWarning)\n",
      "/Users/ziwang/opt/anaconda3/lib/python3.7/site-packages/sklearn/preprocessing/_label.py:98: DataConversionWarning: A column-vector y was passed when a 1d array was expected. Please change the shape of y to (n_samples, ), for example using ravel().\n",
      "  y = column_or_1d(y, warn=True)\n",
      "/Users/ziwang/opt/anaconda3/lib/python3.7/site-packages/sklearn/preprocessing/_label.py:133: DataConversionWarning: A column-vector y was passed when a 1d array was expected. Please change the shape of y to (n_samples, ), for example using ravel().\n",
      "  y = column_or_1d(y, warn=True)\n"
     ]
    },
    {
     "name": "stdout",
     "output_type": "stream",
     "text": [
      "[19:58:06] WARNING: /Users/travis/build/dmlc/xgboost/src/learner.cc:1061: Starting in XGBoost 1.3.0, the default evaluation metric used with the objective 'binary:logistic' was changed from 'error' to 'logloss'. Explicitly set eval_metric if you'd like to restore the old behavior.\n"
     ]
    },
    {
     "name": "stderr",
     "output_type": "stream",
     "text": [
      "/Users/ziwang/opt/anaconda3/lib/python3.7/site-packages/xgboost/sklearn.py:888: UserWarning: The use of label encoder in XGBClassifier is deprecated and will be removed in a future release. To remove this warning, do the following: 1) Pass option use_label_encoder=False when constructing XGBClassifier object; and 2) Encode your labels (y) as integers starting with 0, i.e. 0, 1, 2, ..., [num_class - 1].\n",
      "  warnings.warn(label_encoder_deprecation_msg, UserWarning)\n",
      "/Users/ziwang/opt/anaconda3/lib/python3.7/site-packages/sklearn/preprocessing/_label.py:98: DataConversionWarning: A column-vector y was passed when a 1d array was expected. Please change the shape of y to (n_samples, ), for example using ravel().\n",
      "  y = column_or_1d(y, warn=True)\n",
      "/Users/ziwang/opt/anaconda3/lib/python3.7/site-packages/sklearn/preprocessing/_label.py:133: DataConversionWarning: A column-vector y was passed when a 1d array was expected. Please change the shape of y to (n_samples, ), for example using ravel().\n",
      "  y = column_or_1d(y, warn=True)\n"
     ]
    },
    {
     "name": "stdout",
     "output_type": "stream",
     "text": [
      "[19:58:07] WARNING: /Users/travis/build/dmlc/xgboost/src/learner.cc:1061: Starting in XGBoost 1.3.0, the default evaluation metric used with the objective 'binary:logistic' was changed from 'error' to 'logloss'. Explicitly set eval_metric if you'd like to restore the old behavior.\n"
     ]
    },
    {
     "data": {
      "text/plain": [
       "{'fit_time': array([0.67555618, 0.83871698, 0.80696774]),\n",
       " 'score_time': array([0.11564803, 0.14323306, 0.14122486]),\n",
       " 'test_accu': array([0.78684307, 0.78198529, 0.78272059]),\n",
       " 'train_accu': array([0.98731618, 0.99007535, 0.98823746]),\n",
       " 'test_roc_auc': array([0.69259898, 0.67915038, 0.6773192 ]),\n",
       " 'train_roc_auc': array([0.97774689, 0.98209115, 0.97993654]),\n",
       " 'test_f1': array([0.54968944, 0.52749004, 0.52453741]),\n",
       " 'train_f1': array([0.97550586, 0.98089172, 0.97735315]),\n",
       " 'test_mcc': array([0.41718535, 0.39630475, 0.39608017]),\n",
       " 'train_mcc': array([0.96726402, 0.97442657, 0.96962579])}"
      ]
     },
     "execution_count": 16,
     "metadata": {},
     "output_type": "execute_result"
    }
   ],
   "source": [
    "scores = cross_validate(model, X_train, y_train, cv=3,\n",
    "                        scoring=({'accu': accuracy_scorer, \n",
    "                                  'roc_auc': roc_auc_scorer,\n",
    "                                 'f1': f1_scorer,\n",
    "                                 'mcc':matthews_corrcoef  }),\n",
    "                        return_train_score=True)\n",
    "\n",
    "scores"
   ]
  },
  {
   "cell_type": "markdown",
   "metadata": {},
   "source": [
    "**Comment:**\n",
    "\n",
    "Significant improvement over logistic regression in terms of MCC and F1, suggesting the classifier performs better on rare class (1). \n",
    "\n",
    "The relationshiop between features and target is most likely non-linear. Linear models may have improved performance after applying technqiues such as polynomial feature engineering.\n",
    "\n",
    "Update the default 0.5 threshold may help to achieve better performance. But due to time constraint this step will be skipped. \n"
   ]
  },
  {
   "cell_type": "code",
   "execution_count": 17,
   "metadata": {},
   "outputs": [
    {
     "name": "stderr",
     "output_type": "stream",
     "text": [
      "/Users/ziwang/opt/anaconda3/lib/python3.7/site-packages/xgboost/sklearn.py:888: UserWarning: The use of label encoder in XGBClassifier is deprecated and will be removed in a future release. To remove this warning, do the following: 1) Pass option use_label_encoder=False when constructing XGBClassifier object; and 2) Encode your labels (y) as integers starting with 0, i.e. 0, 1, 2, ..., [num_class - 1].\n",
      "  warnings.warn(label_encoder_deprecation_msg, UserWarning)\n",
      "/Users/ziwang/opt/anaconda3/lib/python3.7/site-packages/sklearn/preprocessing/_label.py:98: DataConversionWarning: A column-vector y was passed when a 1d array was expected. Please change the shape of y to (n_samples, ), for example using ravel().\n",
      "  y = column_or_1d(y, warn=True)\n",
      "/Users/ziwang/opt/anaconda3/lib/python3.7/site-packages/sklearn/preprocessing/_label.py:133: DataConversionWarning: A column-vector y was passed when a 1d array was expected. Please change the shape of y to (n_samples, ), for example using ravel().\n",
      "  y = column_or_1d(y, warn=True)\n"
     ]
    },
    {
     "name": "stdout",
     "output_type": "stream",
     "text": [
      "[19:58:09] WARNING: /Users/travis/build/dmlc/xgboost/src/learner.cc:1061: Starting in XGBoost 1.3.0, the default evaluation metric used with the objective 'binary:logistic' was changed from 'error' to 'logloss'. Explicitly set eval_metric if you'd like to restore the old behavior.\n"
     ]
    }
   ],
   "source": [
    "model.fit(X_train, y_train)\n",
    "y_pred = model.predict(X_test)"
   ]
  },
  {
   "cell_type": "code",
   "execution_count": 18,
   "metadata": {},
   "outputs": [],
   "source": [
    "res = pd.DataFrame()\n",
    "res['p_target'] = y_pred\n",
    "res.to_csv('predictions.csv')"
   ]
  }
 ],
 "metadata": {
  "application/vnd.databricks.v1+notebook": {
   "dashboards": [],
   "language": "python",
   "notebookMetadata": {
    "pythonIndentUnit": 4
   },
   "notebookName": "21-11-30-13:33-LogisticRegression-3143819c5fa1112dcceefbbb74ff35bf",
   "notebookOrigID": 400470994605206,
   "widgets": {}
  },
  "kernelspec": {
   "display_name": "Python 3",
   "language": "python",
   "name": "python3"
  },
  "language_info": {
   "codemirror_mode": {
    "name": "ipython",
    "version": 3
   },
   "file_extension": ".py",
   "mimetype": "text/x-python",
   "name": "python",
   "nbconvert_exporter": "python",
   "pygments_lexer": "ipython3",
   "version": "3.7.6"
  },
  "name": "LogisticRegression-3143819c5fa1112dcceefbbb74ff35bf"
 },
 "nbformat": 4,
 "nbformat_minor": 1
}
